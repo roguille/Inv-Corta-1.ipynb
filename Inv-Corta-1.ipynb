{
 "cells": [
  {
   "cell_type": "code",
   "execution_count": 1,
   "metadata": {},
   "outputs": [],
   "source": [
    "#Pandas: ofrece estructura de datos y herramientas para manipulación y análisis de datos de manera efectiva.\n",
    "#El instrumento principal de Pandas es una tabla bidimensional que consiste en etiquetas de columna y fila llama DataFrame."
   ]
  },
  {
   "cell_type": "code",
   "execution_count": 2,
   "metadata": {},
   "outputs": [],
   "source": [
    "#comencemos el tutorial cargando las librerias de Numpy y Pandas"
   ]
  },
  {
   "cell_type": "code",
   "execution_count": 3,
   "metadata": {},
   "outputs": [],
   "source": [
    "import numpy as np\n",
    "import pandas as pd"
   ]
  },
  {
   "cell_type": "code",
   "execution_count": 4,
   "metadata": {},
   "outputs": [],
   "source": [
    "#Podemos crear un arreglo de datos como queramos\n",
    "#al azar realizaremos un arreglo de dos filas y dos columnas\n",
    "#la funcion print nos desplejara el arreglo"
   ]
  },
  {
   "cell_type": "code",
   "execution_count": 5,
   "metadata": {},
   "outputs": [
    {
     "name": "stdout",
     "output_type": "stream",
     "text": [
      "      Col1 Col2\n",
      "Fila1   11   22\n",
      "Fila2   33   44\n"
     ]
    }
   ],
   "source": [
    "data = np.array([['','Col1','Col2'], ['Fila1',11,22], ['Fila2',33,44]])\n",
    "print(pd.DataFrame(data = data[1:,1:], index = data[1:,0], columns = data[0,1:]))"
   ]
  },
  {
   "cell_type": "code",
   "execution_count": 6,
   "metadata": {},
   "outputs": [],
   "source": [
    "#Observe que se fragmentan los elementos seleccionados de la matriz NumPy para construir el DataFrame\n",
    "#primero se selecciona los valores que figuran en las listas que comienza con Fila1 y Fila2, \n",
    "#luego selecciona el índice o los números de fila Fila1 y Fila2 \n",
    "#y luego los nombres de las columnas Col1 y Col2.\n",
    "\n",
    "#Como se crea el DataFrame siempre sera igual para todas las estructuras."
   ]
  },
  {
   "cell_type": "code",
   "execution_count": 7,
   "metadata": {},
   "outputs": [
    {
     "name": "stdout",
     "output_type": "stream",
     "text": [
      "DataFrame:\n",
      "   0  1  2\n",
      "0  1  2  3\n",
      "1  4  5  6\n"
     ]
    }
   ],
   "source": [
    "df = pd.DataFrame(np.array([[1, 2, 3], [4, 5, 6]]))\n",
    "print('DataFrame:')\n",
    "print(df)"
   ]
  },
  {
   "cell_type": "code",
   "execution_count": 8,
   "metadata": {},
   "outputs": [],
   "source": [
    "#PODEMOS CREAR SERIES TAMBIEN"
   ]
  },
  {
   "cell_type": "code",
   "execution_count": 9,
   "metadata": {},
   "outputs": [
    {
     "name": "stdout",
     "output_type": "stream",
     "text": [
      "Series:\n",
      "Argentina         Buenos Aires\n",
      "Chile        Santiago de Chile\n",
      "Colombia                Bogotá\n",
      "Perú                      Lima\n",
      "dtype: object\n"
     ]
    }
   ],
   "source": [
    "series = pd.Series({\"Argentina\":\"Buenos Aires\", \"Chile\":\"Santiago de Chile\", \"Colombia\":\"Bogotá\", \"Perú\":\"Lima\"})\n",
    "print('Series:')\n",
    "print(series)"
   ]
  },
  {
   "cell_type": "code",
   "execution_count": 10,
   "metadata": {},
   "outputs": [],
   "source": [
    "#Con el DataFrame Creado, procedemos a explorarlo con todas las instrucciones de la libreria Pandas\n",
    "#A continuacion mostramos unas cuantas"
   ]
  },
  {
   "cell_type": "code",
   "execution_count": 11,
   "metadata": {},
   "outputs": [
    {
     "name": "stdout",
     "output_type": "stream",
     "text": [
      "Estadísticas del DataFrame:\n",
      "             0        1        2\n",
      "count  2.00000  2.00000  2.00000\n",
      "mean   2.50000  3.50000  4.50000\n",
      "std    2.12132  2.12132  2.12132\n",
      "min    1.00000  2.00000  3.00000\n",
      "25%    1.75000  2.75000  3.75000\n",
      "50%    2.50000  3.50000  4.50000\n",
      "75%    3.25000  4.25000  5.25000\n",
      "max    4.00000  5.00000  6.00000\n"
     ]
    }
   ],
   "source": [
    "#Estadísticas del DataFrame\n",
    "print('Estadísticas del DataFrame:')\n",
    "print(df.describe())"
   ]
  },
  {
   "cell_type": "code",
   "execution_count": 12,
   "metadata": {},
   "outputs": [
    {
     "name": "stdout",
     "output_type": "stream",
     "text": [
      "Media de las columnas DataFrame:\n",
      "0    2.5\n",
      "1    3.5\n",
      "2    4.5\n",
      "dtype: float64\n"
     ]
    }
   ],
   "source": [
    "#Media de las columnas DataFrame\n",
    "print('Media de las columnas DataFrame:')\n",
    "print(df.mean())"
   ]
  },
  {
   "cell_type": "code",
   "execution_count": 13,
   "metadata": {},
   "outputs": [
    {
     "name": "stdout",
     "output_type": "stream",
     "text": [
      "Correlación del DataFrame:\n",
      "     0    1    2\n",
      "0  1.0  1.0  1.0\n",
      "1  1.0  1.0  1.0\n",
      "2  1.0  1.0  1.0\n"
     ]
    }
   ],
   "source": [
    "#Correlación del DataFrame\n",
    "print('Correlación del DataFrame:')\n",
    "print(df.corr())"
   ]
  },
  {
   "cell_type": "code",
   "execution_count": 14,
   "metadata": {},
   "outputs": [
    {
     "name": "stdout",
     "output_type": "stream",
     "text": [
      "Conteo de datos del DataFrame:\n",
      "0    2\n",
      "1    2\n",
      "2    2\n",
      "dtype: int64\n"
     ]
    }
   ],
   "source": [
    "#Cuenta los datos del DataFrame\n",
    "print('Conteo de datos del DataFrame:')\n",
    "print(df.count())"
   ]
  },
  {
   "cell_type": "code",
   "execution_count": 15,
   "metadata": {},
   "outputs": [
    {
     "name": "stdout",
     "output_type": "stream",
     "text": [
      "Valor más alto de la columna del DataFrame:\n",
      "0    4\n",
      "1    5\n",
      "2    6\n",
      "dtype: int64\n"
     ]
    }
   ],
   "source": [
    "#Valor más alto de cada columna del DataFrame\n",
    "print('Valor más alto de la columna del DataFrame:')\n",
    "print(df.max())"
   ]
  },
  {
   "cell_type": "code",
   "execution_count": 16,
   "metadata": {},
   "outputs": [
    {
     "name": "stdout",
     "output_type": "stream",
     "text": [
      "Valor mínimo de la columna del DataFrame:\n",
      "0    1\n",
      "1    2\n",
      "2    3\n",
      "dtype: int64\n"
     ]
    }
   ],
   "source": [
    "#Valor mínimo de cada columna del DataFrame\n",
    "print('Valor mínimo de la columna del DataFrame:')\n",
    "print(df.min())"
   ]
  },
  {
   "cell_type": "code",
   "execution_count": 17,
   "metadata": {},
   "outputs": [
    {
     "name": "stdout",
     "output_type": "stream",
     "text": [
      "Mediana de la columna del DataFrame:\n",
      "0    2.5\n",
      "1    3.5\n",
      "2    4.5\n",
      "dtype: float64\n"
     ]
    }
   ],
   "source": [
    "#Mediana de cada columna del DataFrame\n",
    "print('Mediana de la columna del DataFrame:')\n",
    "print(df.median())"
   ]
  },
  {
   "cell_type": "code",
   "execution_count": 18,
   "metadata": {},
   "outputs": [
    {
     "name": "stdout",
     "output_type": "stream",
     "text": [
      "Desviación estándar de la columna del DataFrame:\n",
      "0    2.12132\n",
      "1    2.12132\n",
      "2    2.12132\n",
      "dtype: float64\n"
     ]
    }
   ],
   "source": [
    "#Desviación estándar de cada columna del DataFrame\n",
    "print('Desviación estándar de la columna del DataFrame:')\n",
    "print(df.std())"
   ]
  },
  {
   "cell_type": "code",
   "execution_count": 19,
   "metadata": {},
   "outputs": [
    {
     "name": "stdout",
     "output_type": "stream",
     "text": [
      "Primera columna del DataFrame:\n",
      "0    1\n",
      "1    4\n",
      "Name: 0, dtype: int64\n"
     ]
    }
   ],
   "source": [
    "#Seleccionar la primera columna del DataFrame\n",
    "print('Primera columna del DataFrame:')\n",
    "print(df[0])"
   ]
  },
  {
   "cell_type": "code",
   "execution_count": 20,
   "metadata": {},
   "outputs": [
    {
     "name": "stdout",
     "output_type": "stream",
     "text": [
      "Dos columnas del DataFrame:\n",
      "   0  1\n",
      "0  1  2\n",
      "1  4  5\n"
     ]
    }
   ],
   "source": [
    "#Seleccionar dos columnas del DataFrame\n",
    "print('Dos columnas del DataFrame:')\n",
    "print(df[[0, 1]])"
   ]
  },
  {
   "cell_type": "code",
   "execution_count": 21,
   "metadata": {},
   "outputs": [
    {
     "name": "stdout",
     "output_type": "stream",
     "text": [
      "Valor de la primera fila y última columna del DataFrame:\n",
      "3\n"
     ]
    }
   ],
   "source": [
    "#Seleccionar el valor de la primera fila y última columna del DataFrame\n",
    "print('Valor de la primera fila y última columna del DataFrame:')\n",
    "print(df.iloc[0][2])"
   ]
  },
  {
   "cell_type": "code",
   "execution_count": 22,
   "metadata": {},
   "outputs": [
    {
     "name": "stdout",
     "output_type": "stream",
     "text": [
      "Valores de la primera fila del DataFrame:\n",
      "0    1\n",
      "1    2\n",
      "2    3\n",
      "Name: 0, dtype: int64\n"
     ]
    }
   ],
   "source": [
    "#Seleccionar los valores de la primera fila del DataFrame\n",
    "print('Valores de la primera fila del DataFrame:')\n",
    "print(df.loc[0])"
   ]
  },
  {
   "cell_type": "code",
   "execution_count": 23,
   "metadata": {},
   "outputs": [
    {
     "name": "stdout",
     "output_type": "stream",
     "text": [
      "Valores de la primera fila del DataFrame:\n",
      "0    1\n",
      "1    2\n",
      "2    3\n",
      "Name: 0, dtype: int64\n"
     ]
    }
   ],
   "source": [
    "#Seleccionar los valores de la primera fila del DataFrame\n",
    "print('Valores de la primera fila del DataFrame:')\n",
    "print(df.iloc[0,:])"
   ]
  },
  {
   "cell_type": "code",
   "execution_count": 24,
   "metadata": {},
   "outputs": [],
   "source": [
    "#Importar y Exportar datos de un archivo\n",
    "#\n",
    "#Importar\n",
    "#\n",
    "#Generalmente para obtener los datos de Machine Learning lo vas a hacer de alguna de las siguientes formas:\n",
    "#\n",
    "#    Abrir un archivo local, generalmente un archivo CSV, pero también podría ser un archivo de texto delimitado, excel, entre otros.\n",
    "#    Abrir un archivo o base de datos de manera remota desde un sitio web a través de una URL.\n",
    "#\n",
    "#Para cumplir con estas acciones hay diferentes comandos para cada una de ellas\n",
    "#pero cuando se abre un archivo se verá de la siguiente manera:\n",
    "#\n",
    "#pd.read_tipoarchivo()\n",
    "#\n",
    "# A continuacion cargaremos un archivo\n"
   ]
  },
  {
   "cell_type": "code",
   "execution_count": 25,
   "metadata": {},
   "outputs": [
    {
     "name": "stdout",
     "output_type": "stream",
     "text": [
      "     Div       Date          HomeTeam          AwayTeam  FTHG  FTAG FTR  HTHG  \\\n",
      "0     E0   14/08/93           Arsenal          Coventry     0     3   A   NaN   \n",
      "1     E0   14/08/93       Aston Villa               QPR     4     1   H   NaN   \n",
      "2     E0   14/08/93           Chelsea         Blackburn     1     2   A   NaN   \n",
      "3     E0   14/08/93         Liverpool    Sheffield Weds     2     0   H   NaN   \n",
      "4     E0   14/08/93          Man City             Leeds     1     1   D   NaN   \n",
      "5     E0   14/08/93         Newcastle         Tottenham     0     1   A   NaN   \n",
      "6     E0   14/08/93            Oldham           Ipswich     0     3   A   NaN   \n",
      "7     E0   14/08/93  Sheffield United           Swindon     3     1   H   NaN   \n",
      "8     E0   14/08/93       Southampton           Everton     0     2   A   NaN   \n",
      "9     E0   14/08/93          West Ham         Wimbledon     0     2   A   NaN   \n",
      "10    E0   15/08/93           Norwich        Man United     0     2   A   NaN   \n",
      "11    E0   16/08/93         Tottenham           Arsenal     0     1   A   NaN   \n",
      "12    E0   17/08/93           Everton          Man City     1     0   H   NaN   \n",
      "13    E0   17/08/93           Ipswich       Southampton     1     0   H   NaN   \n",
      "14    E0   17/08/93             Leeds          West Ham     1     0   H   NaN   \n",
      "15    E0   17/08/93         Wimbledon           Chelsea     1     1   D   NaN   \n",
      "16    E0   18/08/93         Blackburn           Norwich     2     3   A   NaN   \n",
      "17    E0   18/08/93          Coventry         Newcastle     2     1   H   NaN   \n",
      "18    E0   18/08/93        Man United  Sheffield United     3     0   H   NaN   \n",
      "19    E0   18/08/93               QPR         Liverpool     1     3   A   NaN   \n",
      "20    E0   18/08/93    Sheffield Weds       Aston Villa     0     0   D   NaN   \n",
      "21    E0   18/08/93           Swindon            Oldham     0     1   A   NaN   \n",
      "22    E0   21/08/93         Blackburn            Oldham     1     0   H   NaN   \n",
      "23    E0   21/08/93          Coventry          West Ham     1     1   D   NaN   \n",
      "24    E0   21/08/93           Everton  Sheffield United     4     2   H   NaN   \n",
      "25    E0   21/08/93           Ipswich           Chelsea     1     0   H   NaN   \n",
      "26    E0   21/08/93             Leeds           Norwich     0     4   A   NaN   \n",
      "27    E0   21/08/93        Man United         Newcastle     1     1   D   NaN   \n",
      "28    E0   21/08/93               QPR       Southampton     2     1   H   NaN   \n",
      "29    E0   21/08/93    Sheffield Weds           Arsenal     0     1   A   NaN   \n",
      "...   ..        ...               ...               ...   ...   ...  ..   ...   \n",
      "9634  E0   28/04/18           Swansea           Chelsea     0     1   A   0.0   \n",
      "9635  E0   29/04/18        Man United           Arsenal     2     1   H   1.0   \n",
      "9636  E0   29/04/18          West Ham          Man City     1     4   A   1.0   \n",
      "9637  E0   30/04/18         Tottenham           Watford     2     0   H   1.0   \n",
      "9638  E0   4/5/2018          Brighton        Man United     1     0   H   0.0   \n",
      "9639  E0   5/5/2018       Bournemouth           Swansea     1     0   H   1.0   \n",
      "9640  E0   5/5/2018           Everton       Southampton     1     1   D   0.0   \n",
      "9641  E0   5/5/2018         Leicester          West Ham     0     2   A   0.0   \n",
      "9642  E0   5/5/2018             Stoke    Crystal Palace     1     2   A   1.0   \n",
      "9643  E0   5/5/2018           Watford         Newcastle     2     1   H   2.0   \n",
      "9644  E0   5/5/2018         West Brom         Tottenham     1     0   H   0.0   \n",
      "9645  E0   6/5/2018           Arsenal           Burnley     5     0   H   2.0   \n",
      "9646  E0   6/5/2018           Chelsea         Liverpool     1     0   H   1.0   \n",
      "9647  E0   6/5/2018          Man City      Huddersfield     0     0   D   0.0   \n",
      "9648  E0   8/5/2018           Swansea       Southampton     0     1   A   0.0   \n",
      "9649  E0   9/5/2018           Chelsea      Huddersfield     1     1   D   0.0   \n",
      "9650  E0   9/5/2018         Leicester           Arsenal     3     1   H   1.0   \n",
      "9651  E0   9/5/2018          Man City          Brighton     3     1   H   2.0   \n",
      "9652  E0   9/5/2018         Tottenham         Newcastle     1     0   H   0.0   \n",
      "9653  E0  10/5/2018          West Ham        Man United     0     0   D   0.0   \n",
      "9654  E0   13/05/18           Burnley       Bournemouth     1     2   A   1.0   \n",
      "9655  E0   13/05/18    Crystal Palace         West Brom     2     0   H   0.0   \n",
      "9656  E0   13/05/18      Huddersfield           Arsenal     0     1   A   0.0   \n",
      "9657  E0   13/05/18         Liverpool          Brighton     4     0   H   2.0   \n",
      "9658  E0   13/05/18        Man United           Watford     1     0   H   1.0   \n",
      "9659  E0   13/05/18         Newcastle           Chelsea     3     0   H   1.0   \n",
      "9660  E0   13/05/18       Southampton          Man City     0     1   A   0.0   \n",
      "9661  E0   13/05/18           Swansea             Stoke     1     2   A   1.0   \n",
      "9662  E0   13/05/18         Tottenham         Leicester     5     4   H   1.0   \n",
      "9663  E0   13/05/18          West Ham           Everton     3     1   H   1.0   \n",
      "\n",
      "      HTAG  HTR   Season  \n",
      "0      NaN  NaN  1993-94  \n",
      "1      NaN  NaN  1993-94  \n",
      "2      NaN  NaN  1993-94  \n",
      "3      NaN  NaN  1993-94  \n",
      "4      NaN  NaN  1993-94  \n",
      "5      NaN  NaN  1993-94  \n",
      "6      NaN  NaN  1993-94  \n",
      "7      NaN  NaN  1993-94  \n",
      "8      NaN  NaN  1993-94  \n",
      "9      NaN  NaN  1993-94  \n",
      "10     NaN  NaN  1993-94  \n",
      "11     NaN  NaN  1993-94  \n",
      "12     NaN  NaN  1993-94  \n",
      "13     NaN  NaN  1993-94  \n",
      "14     NaN  NaN  1993-94  \n",
      "15     NaN  NaN  1993-94  \n",
      "16     NaN  NaN  1993-94  \n",
      "17     NaN  NaN  1993-94  \n",
      "18     NaN  NaN  1993-94  \n",
      "19     NaN  NaN  1993-94  \n",
      "20     NaN  NaN  1993-94  \n",
      "21     NaN  NaN  1993-94  \n",
      "22     NaN  NaN  1993-94  \n",
      "23     NaN  NaN  1993-94  \n",
      "24     NaN  NaN  1993-94  \n",
      "25     NaN  NaN  1993-94  \n",
      "26     NaN  NaN  1993-94  \n",
      "27     NaN  NaN  1993-94  \n",
      "28     NaN  NaN  1993-94  \n",
      "29     NaN  NaN  1993-94  \n",
      "...    ...  ...      ...  \n",
      "9634   1.0    A  2017-18  \n",
      "9635   0.0    H  2017-18  \n",
      "9636   2.0    A  2017-18  \n",
      "9637   0.0    H  2017-18  \n",
      "9638   0.0    D  2017-18  \n",
      "9639   0.0    H  2017-18  \n",
      "9640   0.0    D  2017-18  \n",
      "9641   1.0    A  2017-18  \n",
      "9642   0.0    H  2017-18  \n",
      "9643   0.0    H  2017-18  \n",
      "9644   0.0    D  2017-18  \n",
      "9645   0.0    H  2017-18  \n",
      "9646   0.0    H  2017-18  \n",
      "9647   0.0    D  2017-18  \n",
      "9648   0.0    D  2017-18  \n",
      "9649   0.0    D  2017-18  \n",
      "9650   0.0    H  2017-18  \n",
      "9651   1.0    H  2017-18  \n",
      "9652   0.0    D  2017-18  \n",
      "9653   0.0    D  2017-18  \n",
      "9654   0.0    H  2017-18  \n",
      "9655   0.0    D  2017-18  \n",
      "9656   1.0    A  2017-18  \n",
      "9657   0.0    H  2017-18  \n",
      "9658   0.0    H  2017-18  \n",
      "9659   0.0    H  2017-18  \n",
      "9660   0.0    D  2017-18  \n",
      "9661   2.0    A  2017-18  \n",
      "9662   2.0    A  2017-18  \n",
      "9663   0.0    H  2017-18  \n",
      "\n",
      "[9664 rows x 11 columns]\n"
     ]
    }
   ],
   "source": [
    "df=pd.read_csv('Premier.csv', header=0)\n",
    "print(df)"
   ]
  },
  {
   "cell_type": "code",
   "execution_count": 26,
   "metadata": {},
   "outputs": [],
   "source": [
    "#Limpieza de datos\n",
    "#\n",
    "#Con Pandas podemos limpiar los datos.\n",
    "#Es muy importante si queremos obtener resultados confiables.\n",
    "#\n",
    "#Para verificar si faltan valores en el conjunto de datos\n",
    "# digite:\n",
    "#pd.isnull()\n",
    "#Ella nos devuelve una matriz booleana\n",
    "#una matriz de verdadero para valores faltantes y falso para valores no perdidos"
   ]
  },
  {
   "cell_type": "code",
   "execution_count": 27,
   "metadata": {},
   "outputs": [
    {
     "name": "stdout",
     "output_type": "stream",
     "text": [
      "Datos nulos en el DataFrame:\n",
      "        Div   Date  HomeTeam  AwayTeam   FTHG   FTAG    FTR   HTHG   HTAG  \\\n",
      "0     False  False     False     False  False  False  False   True   True   \n",
      "1     False  False     False     False  False  False  False   True   True   \n",
      "2     False  False     False     False  False  False  False   True   True   \n",
      "3     False  False     False     False  False  False  False   True   True   \n",
      "4     False  False     False     False  False  False  False   True   True   \n",
      "5     False  False     False     False  False  False  False   True   True   \n",
      "6     False  False     False     False  False  False  False   True   True   \n",
      "7     False  False     False     False  False  False  False   True   True   \n",
      "8     False  False     False     False  False  False  False   True   True   \n",
      "9     False  False     False     False  False  False  False   True   True   \n",
      "10    False  False     False     False  False  False  False   True   True   \n",
      "11    False  False     False     False  False  False  False   True   True   \n",
      "12    False  False     False     False  False  False  False   True   True   \n",
      "13    False  False     False     False  False  False  False   True   True   \n",
      "14    False  False     False     False  False  False  False   True   True   \n",
      "15    False  False     False     False  False  False  False   True   True   \n",
      "16    False  False     False     False  False  False  False   True   True   \n",
      "17    False  False     False     False  False  False  False   True   True   \n",
      "18    False  False     False     False  False  False  False   True   True   \n",
      "19    False  False     False     False  False  False  False   True   True   \n",
      "20    False  False     False     False  False  False  False   True   True   \n",
      "21    False  False     False     False  False  False  False   True   True   \n",
      "22    False  False     False     False  False  False  False   True   True   \n",
      "23    False  False     False     False  False  False  False   True   True   \n",
      "24    False  False     False     False  False  False  False   True   True   \n",
      "25    False  False     False     False  False  False  False   True   True   \n",
      "26    False  False     False     False  False  False  False   True   True   \n",
      "27    False  False     False     False  False  False  False   True   True   \n",
      "28    False  False     False     False  False  False  False   True   True   \n",
      "29    False  False     False     False  False  False  False   True   True   \n",
      "...     ...    ...       ...       ...    ...    ...    ...    ...    ...   \n",
      "9634  False  False     False     False  False  False  False  False  False   \n",
      "9635  False  False     False     False  False  False  False  False  False   \n",
      "9636  False  False     False     False  False  False  False  False  False   \n",
      "9637  False  False     False     False  False  False  False  False  False   \n",
      "9638  False  False     False     False  False  False  False  False  False   \n",
      "9639  False  False     False     False  False  False  False  False  False   \n",
      "9640  False  False     False     False  False  False  False  False  False   \n",
      "9641  False  False     False     False  False  False  False  False  False   \n",
      "9642  False  False     False     False  False  False  False  False  False   \n",
      "9643  False  False     False     False  False  False  False  False  False   \n",
      "9644  False  False     False     False  False  False  False  False  False   \n",
      "9645  False  False     False     False  False  False  False  False  False   \n",
      "9646  False  False     False     False  False  False  False  False  False   \n",
      "9647  False  False     False     False  False  False  False  False  False   \n",
      "9648  False  False     False     False  False  False  False  False  False   \n",
      "9649  False  False     False     False  False  False  False  False  False   \n",
      "9650  False  False     False     False  False  False  False  False  False   \n",
      "9651  False  False     False     False  False  False  False  False  False   \n",
      "9652  False  False     False     False  False  False  False  False  False   \n",
      "9653  False  False     False     False  False  False  False  False  False   \n",
      "9654  False  False     False     False  False  False  False  False  False   \n",
      "9655  False  False     False     False  False  False  False  False  False   \n",
      "9656  False  False     False     False  False  False  False  False  False   \n",
      "9657  False  False     False     False  False  False  False  False  False   \n",
      "9658  False  False     False     False  False  False  False  False  False   \n",
      "9659  False  False     False     False  False  False  False  False  False   \n",
      "9660  False  False     False     False  False  False  False  False  False   \n",
      "9661  False  False     False     False  False  False  False  False  False   \n",
      "9662  False  False     False     False  False  False  False  False  False   \n",
      "9663  False  False     False     False  False  False  False  False  False   \n",
      "\n",
      "        HTR  Season  \n",
      "0      True   False  \n",
      "1      True   False  \n",
      "2      True   False  \n",
      "3      True   False  \n",
      "4      True   False  \n",
      "5      True   False  \n",
      "6      True   False  \n",
      "7      True   False  \n",
      "8      True   False  \n",
      "9      True   False  \n",
      "10     True   False  \n",
      "11     True   False  \n",
      "12     True   False  \n",
      "13     True   False  \n",
      "14     True   False  \n",
      "15     True   False  \n",
      "16     True   False  \n",
      "17     True   False  \n",
      "18     True   False  \n",
      "19     True   False  \n",
      "20     True   False  \n",
      "21     True   False  \n",
      "22     True   False  \n",
      "23     True   False  \n",
      "24     True   False  \n",
      "25     True   False  \n",
      "26     True   False  \n",
      "27     True   False  \n",
      "28     True   False  \n",
      "29     True   False  \n",
      "...     ...     ...  \n",
      "9634  False   False  \n",
      "9635  False   False  \n",
      "9636  False   False  \n",
      "9637  False   False  \n",
      "9638  False   False  \n",
      "9639  False   False  \n",
      "9640  False   False  \n",
      "9641  False   False  \n",
      "9642  False   False  \n",
      "9643  False   False  \n",
      "9644  False   False  \n",
      "9645  False   False  \n",
      "9646  False   False  \n",
      "9647  False   False  \n",
      "9648  False   False  \n",
      "9649  False   False  \n",
      "9650  False   False  \n",
      "9651  False   False  \n",
      "9652  False   False  \n",
      "9653  False   False  \n",
      "9654  False   False  \n",
      "9655  False   False  \n",
      "9656  False   False  \n",
      "9657  False   False  \n",
      "9658  False   False  \n",
      "9659  False   False  \n",
      "9660  False   False  \n",
      "9661  False   False  \n",
      "9662  False   False  \n",
      "9663  False   False  \n",
      "\n",
      "[9664 rows x 11 columns]\n"
     ]
    }
   ],
   "source": [
    "#Verificar si hay datos nulos en el DataFrame\n",
    "print('Datos nulos en el DataFrame:')\n",
    "print(df.isnull())"
   ]
  },
  {
   "cell_type": "code",
   "execution_count": 28,
   "metadata": {},
   "outputs": [],
   "source": [
    "#Para obtener una suma de valores nulos o faltantes solamente se debe ejecutar la siguiente instrucción:"
   ]
  },
  {
   "cell_type": "code",
   "execution_count": 29,
   "metadata": {},
   "outputs": [
    {
     "name": "stdout",
     "output_type": "stream",
     "text": [
      "Suma datos nulos en el DataFrame:\n",
      "Div           0\n",
      "Date          0\n",
      "HomeTeam      0\n",
      "AwayTeam      0\n",
      "FTHG          0\n",
      "FTAG          0\n",
      "FTR           0\n",
      "HTHG        924\n",
      "HTAG        924\n",
      "HTR         924\n",
      "Season        0\n",
      "dtype: int64\n"
     ]
    }
   ],
   "source": [
    "#Suma de datos nulos en el DataFrame\n",
    "print('Suma datos nulos en el DataFrame:')\n",
    "print(df.isnull().sum())"
   ]
  },
  {
   "cell_type": "code",
   "execution_count": 30,
   "metadata": {},
   "outputs": [],
   "source": [
    "#Después de obtener una lista de valores perdidos\n",
    "#nos podemos deshacerse de ellos usando df.dropna() para eliminar las filas o df.dropna(axis = 1) \n",
    "#para eliminar las columnas en donde haya datos perdidos.\n",
    "\n",
    "#En caso de que no querramos eliminar datos también\n",
    "#podemos rellenar los valores perdidos con otros valores usando df.fillna(x)\n",
    "#que reemplaza los valores perdidos con x, puede ser cualquier valor, \n",
    "#inclusive se puede reemplar todos los valores nulos con la media de los datos.\n",
    "\n",
    "    "
   ]
  },
  {
   "cell_type": "code",
   "execution_count": 31,
   "metadata": {},
   "outputs": [
    {
     "name": "stdout",
     "output_type": "stream",
     "text": [
      "Reemplazar los valores perdidos por la media:\n",
      "     Div       Date          HomeTeam          AwayTeam  FTHG  FTAG FTR  \\\n",
      "0     E0   14/08/93           Arsenal          Coventry     0     3   A   \n",
      "1     E0   14/08/93       Aston Villa               QPR     4     1   H   \n",
      "2     E0   14/08/93           Chelsea         Blackburn     1     2   A   \n",
      "3     E0   14/08/93         Liverpool    Sheffield Weds     2     0   H   \n",
      "4     E0   14/08/93          Man City             Leeds     1     1   D   \n",
      "5     E0   14/08/93         Newcastle         Tottenham     0     1   A   \n",
      "6     E0   14/08/93            Oldham           Ipswich     0     3   A   \n",
      "7     E0   14/08/93  Sheffield United           Swindon     3     1   H   \n",
      "8     E0   14/08/93       Southampton           Everton     0     2   A   \n",
      "9     E0   14/08/93          West Ham         Wimbledon     0     2   A   \n",
      "10    E0   15/08/93           Norwich        Man United     0     2   A   \n",
      "11    E0   16/08/93         Tottenham           Arsenal     0     1   A   \n",
      "12    E0   17/08/93           Everton          Man City     1     0   H   \n",
      "13    E0   17/08/93           Ipswich       Southampton     1     0   H   \n",
      "14    E0   17/08/93             Leeds          West Ham     1     0   H   \n",
      "15    E0   17/08/93         Wimbledon           Chelsea     1     1   D   \n",
      "16    E0   18/08/93         Blackburn           Norwich     2     3   A   \n",
      "17    E0   18/08/93          Coventry         Newcastle     2     1   H   \n",
      "18    E0   18/08/93        Man United  Sheffield United     3     0   H   \n",
      "19    E0   18/08/93               QPR         Liverpool     1     3   A   \n",
      "20    E0   18/08/93    Sheffield Weds       Aston Villa     0     0   D   \n",
      "21    E0   18/08/93           Swindon            Oldham     0     1   A   \n",
      "22    E0   21/08/93         Blackburn            Oldham     1     0   H   \n",
      "23    E0   21/08/93          Coventry          West Ham     1     1   D   \n",
      "24    E0   21/08/93           Everton  Sheffield United     4     2   H   \n",
      "25    E0   21/08/93           Ipswich           Chelsea     1     0   H   \n",
      "26    E0   21/08/93             Leeds           Norwich     0     4   A   \n",
      "27    E0   21/08/93        Man United         Newcastle     1     1   D   \n",
      "28    E0   21/08/93               QPR       Southampton     2     1   H   \n",
      "29    E0   21/08/93    Sheffield Weds           Arsenal     0     1   A   \n",
      "...   ..        ...               ...               ...   ...   ...  ..   \n",
      "9634  E0   28/04/18           Swansea           Chelsea     0     1   A   \n",
      "9635  E0   29/04/18        Man United           Arsenal     2     1   H   \n",
      "9636  E0   29/04/18          West Ham          Man City     1     4   A   \n",
      "9637  E0   30/04/18         Tottenham           Watford     2     0   H   \n",
      "9638  E0   4/5/2018          Brighton        Man United     1     0   H   \n",
      "9639  E0   5/5/2018       Bournemouth           Swansea     1     0   H   \n",
      "9640  E0   5/5/2018           Everton       Southampton     1     1   D   \n",
      "9641  E0   5/5/2018         Leicester          West Ham     0     2   A   \n",
      "9642  E0   5/5/2018             Stoke    Crystal Palace     1     2   A   \n",
      "9643  E0   5/5/2018           Watford         Newcastle     2     1   H   \n",
      "9644  E0   5/5/2018         West Brom         Tottenham     1     0   H   \n",
      "9645  E0   6/5/2018           Arsenal           Burnley     5     0   H   \n",
      "9646  E0   6/5/2018           Chelsea         Liverpool     1     0   H   \n",
      "9647  E0   6/5/2018          Man City      Huddersfield     0     0   D   \n",
      "9648  E0   8/5/2018           Swansea       Southampton     0     1   A   \n",
      "9649  E0   9/5/2018           Chelsea      Huddersfield     1     1   D   \n",
      "9650  E0   9/5/2018         Leicester           Arsenal     3     1   H   \n",
      "9651  E0   9/5/2018          Man City          Brighton     3     1   H   \n",
      "9652  E0   9/5/2018         Tottenham         Newcastle     1     0   H   \n",
      "9653  E0  10/5/2018          West Ham        Man United     0     0   D   \n",
      "9654  E0   13/05/18           Burnley       Bournemouth     1     2   A   \n",
      "9655  E0   13/05/18    Crystal Palace         West Brom     2     0   H   \n",
      "9656  E0   13/05/18      Huddersfield           Arsenal     0     1   A   \n",
      "9657  E0   13/05/18         Liverpool          Brighton     4     0   H   \n",
      "9658  E0   13/05/18        Man United           Watford     1     0   H   \n",
      "9659  E0   13/05/18         Newcastle           Chelsea     3     0   H   \n",
      "9660  E0   13/05/18       Southampton          Man City     0     1   A   \n",
      "9661  E0   13/05/18           Swansea             Stoke     1     2   A   \n",
      "9662  E0   13/05/18         Tottenham         Leicester     5     4   H   \n",
      "9663  E0   13/05/18          West Ham           Everton     3     1   H   \n",
      "\n",
      "          HTHG      HTAG  HTR   Season  \n",
      "0     0.685469  0.488444  NaN  1993-94  \n",
      "1     0.685469  0.488444  NaN  1993-94  \n",
      "2     0.685469  0.488444  NaN  1993-94  \n",
      "3     0.685469  0.488444  NaN  1993-94  \n",
      "4     0.685469  0.488444  NaN  1993-94  \n",
      "5     0.685469  0.488444  NaN  1993-94  \n",
      "6     0.685469  0.488444  NaN  1993-94  \n",
      "7     0.685469  0.488444  NaN  1993-94  \n",
      "8     0.685469  0.488444  NaN  1993-94  \n",
      "9     0.685469  0.488444  NaN  1993-94  \n",
      "10    0.685469  0.488444  NaN  1993-94  \n",
      "11    0.685469  0.488444  NaN  1993-94  \n",
      "12    0.685469  0.488444  NaN  1993-94  \n",
      "13    0.685469  0.488444  NaN  1993-94  \n",
      "14    0.685469  0.488444  NaN  1993-94  \n",
      "15    0.685469  0.488444  NaN  1993-94  \n",
      "16    0.685469  0.488444  NaN  1993-94  \n",
      "17    0.685469  0.488444  NaN  1993-94  \n",
      "18    0.685469  0.488444  NaN  1993-94  \n",
      "19    0.685469  0.488444  NaN  1993-94  \n",
      "20    0.685469  0.488444  NaN  1993-94  \n",
      "21    0.685469  0.488444  NaN  1993-94  \n",
      "22    0.685469  0.488444  NaN  1993-94  \n",
      "23    0.685469  0.488444  NaN  1993-94  \n",
      "24    0.685469  0.488444  NaN  1993-94  \n",
      "25    0.685469  0.488444  NaN  1993-94  \n",
      "26    0.685469  0.488444  NaN  1993-94  \n",
      "27    0.685469  0.488444  NaN  1993-94  \n",
      "28    0.685469  0.488444  NaN  1993-94  \n",
      "29    0.685469  0.488444  NaN  1993-94  \n",
      "...        ...       ...  ...      ...  \n",
      "9634  0.000000  1.000000    A  2017-18  \n",
      "9635  1.000000  0.000000    H  2017-18  \n",
      "9636  1.000000  2.000000    A  2017-18  \n",
      "9637  1.000000  0.000000    H  2017-18  \n",
      "9638  0.000000  0.000000    D  2017-18  \n",
      "9639  1.000000  0.000000    H  2017-18  \n",
      "9640  0.000000  0.000000    D  2017-18  \n",
      "9641  0.000000  1.000000    A  2017-18  \n",
      "9642  1.000000  0.000000    H  2017-18  \n",
      "9643  2.000000  0.000000    H  2017-18  \n",
      "9644  0.000000  0.000000    D  2017-18  \n",
      "9645  2.000000  0.000000    H  2017-18  \n",
      "9646  1.000000  0.000000    H  2017-18  \n",
      "9647  0.000000  0.000000    D  2017-18  \n",
      "9648  0.000000  0.000000    D  2017-18  \n",
      "9649  0.000000  0.000000    D  2017-18  \n",
      "9650  1.000000  0.000000    H  2017-18  \n",
      "9651  2.000000  1.000000    H  2017-18  \n",
      "9652  0.000000  0.000000    D  2017-18  \n",
      "9653  0.000000  0.000000    D  2017-18  \n",
      "9654  1.000000  0.000000    H  2017-18  \n",
      "9655  0.000000  0.000000    D  2017-18  \n",
      "9656  0.000000  1.000000    A  2017-18  \n",
      "9657  2.000000  0.000000    H  2017-18  \n",
      "9658  1.000000  0.000000    H  2017-18  \n",
      "9659  1.000000  0.000000    H  2017-18  \n",
      "9660  0.000000  0.000000    D  2017-18  \n",
      "9661  1.000000  2.000000    A  2017-18  \n",
      "9662  1.000000  2.000000    A  2017-18  \n",
      "9663  1.000000  0.000000    H  2017-18  \n",
      "\n",
      "[9664 rows x 11 columns]\n"
     ]
    }
   ],
   "source": [
    "#Reemplaza los valores perdidos por la media\n",
    "print('Reemplazar los valores perdidos por la media:')\n",
    "print(df.fillna(df.mean ()))"
   ]
  },
  {
   "cell_type": "code",
   "execution_count": 32,
   "metadata": {},
   "outputs": [],
   "source": [
    "#Podemos visualizar los datos de otra manera con head()"
   ]
  },
  {
   "cell_type": "code",
   "execution_count": 34,
   "metadata": {
    "scrolled": true
   },
   "outputs": [
    {
     "data": {
      "text/html": [
       "<div>\n",
       "<style scoped>\n",
       "    .dataframe tbody tr th:only-of-type {\n",
       "        vertical-align: middle;\n",
       "    }\n",
       "\n",
       "    .dataframe tbody tr th {\n",
       "        vertical-align: top;\n",
       "    }\n",
       "\n",
       "    .dataframe thead th {\n",
       "        text-align: right;\n",
       "    }\n",
       "</style>\n",
       "<table border=\"1\" class=\"dataframe\">\n",
       "  <thead>\n",
       "    <tr style=\"text-align: right;\">\n",
       "      <th></th>\n",
       "      <th>Div</th>\n",
       "      <th>Date</th>\n",
       "      <th>HomeTeam</th>\n",
       "      <th>AwayTeam</th>\n",
       "      <th>FTHG</th>\n",
       "      <th>FTAG</th>\n",
       "      <th>FTR</th>\n",
       "      <th>HTHG</th>\n",
       "      <th>HTAG</th>\n",
       "      <th>HTR</th>\n",
       "      <th>Season</th>\n",
       "    </tr>\n",
       "  </thead>\n",
       "  <tbody>\n",
       "    <tr>\n",
       "      <th>0</th>\n",
       "      <td>E0</td>\n",
       "      <td>14/08/93</td>\n",
       "      <td>Arsenal</td>\n",
       "      <td>Coventry</td>\n",
       "      <td>0</td>\n",
       "      <td>3</td>\n",
       "      <td>A</td>\n",
       "      <td>NaN</td>\n",
       "      <td>NaN</td>\n",
       "      <td>NaN</td>\n",
       "      <td>1993-94</td>\n",
       "    </tr>\n",
       "    <tr>\n",
       "      <th>1</th>\n",
       "      <td>E0</td>\n",
       "      <td>14/08/93</td>\n",
       "      <td>Aston Villa</td>\n",
       "      <td>QPR</td>\n",
       "      <td>4</td>\n",
       "      <td>1</td>\n",
       "      <td>H</td>\n",
       "      <td>NaN</td>\n",
       "      <td>NaN</td>\n",
       "      <td>NaN</td>\n",
       "      <td>1993-94</td>\n",
       "    </tr>\n",
       "    <tr>\n",
       "      <th>2</th>\n",
       "      <td>E0</td>\n",
       "      <td>14/08/93</td>\n",
       "      <td>Chelsea</td>\n",
       "      <td>Blackburn</td>\n",
       "      <td>1</td>\n",
       "      <td>2</td>\n",
       "      <td>A</td>\n",
       "      <td>NaN</td>\n",
       "      <td>NaN</td>\n",
       "      <td>NaN</td>\n",
       "      <td>1993-94</td>\n",
       "    </tr>\n",
       "    <tr>\n",
       "      <th>3</th>\n",
       "      <td>E0</td>\n",
       "      <td>14/08/93</td>\n",
       "      <td>Liverpool</td>\n",
       "      <td>Sheffield Weds</td>\n",
       "      <td>2</td>\n",
       "      <td>0</td>\n",
       "      <td>H</td>\n",
       "      <td>NaN</td>\n",
       "      <td>NaN</td>\n",
       "      <td>NaN</td>\n",
       "      <td>1993-94</td>\n",
       "    </tr>\n",
       "    <tr>\n",
       "      <th>4</th>\n",
       "      <td>E0</td>\n",
       "      <td>14/08/93</td>\n",
       "      <td>Man City</td>\n",
       "      <td>Leeds</td>\n",
       "      <td>1</td>\n",
       "      <td>1</td>\n",
       "      <td>D</td>\n",
       "      <td>NaN</td>\n",
       "      <td>NaN</td>\n",
       "      <td>NaN</td>\n",
       "      <td>1993-94</td>\n",
       "    </tr>\n",
       "  </tbody>\n",
       "</table>\n",
       "</div>"
      ],
      "text/plain": [
       "  Div      Date     HomeTeam        AwayTeam  FTHG  FTAG FTR  HTHG  HTAG  HTR  \\\n",
       "0  E0  14/08/93      Arsenal        Coventry     0     3   A   NaN   NaN  NaN   \n",
       "1  E0  14/08/93  Aston Villa             QPR     4     1   H   NaN   NaN  NaN   \n",
       "2  E0  14/08/93      Chelsea       Blackburn     1     2   A   NaN   NaN  NaN   \n",
       "3  E0  14/08/93    Liverpool  Sheffield Weds     2     0   H   NaN   NaN  NaN   \n",
       "4  E0  14/08/93     Man City           Leeds     1     1   D   NaN   NaN  NaN   \n",
       "\n",
       "    Season  \n",
       "0  1993-94  \n",
       "1  1993-94  \n",
       "2  1993-94  \n",
       "3  1993-94  \n",
       "4  1993-94  "
      ]
     },
     "execution_count": 34,
     "metadata": {},
     "output_type": "execute_result"
    }
   ],
   "source": [
    "df.head()"
   ]
  },
  {
   "cell_type": "code",
   "execution_count": null,
   "metadata": {},
   "outputs": [],
   "source": [
    "#Shape nos permite dacilmente ver las dimensiones de la matriz"
   ]
  },
  {
   "cell_type": "code",
   "execution_count": 36,
   "metadata": {},
   "outputs": [
    {
     "name": "stdout",
     "output_type": "stream",
     "text": [
      "(9664, 11)\n"
     ]
    }
   ],
   "source": [
    "print(df.shape)"
   ]
  },
  {
   "cell_type": "code",
   "execution_count": 42,
   "metadata": {},
   "outputs": [
    {
     "name": "stdout",
     "output_type": "stream",
     "text": [
      "<bound method DataFrame.count of      Div       Date          HomeTeam          AwayTeam  FTHG  FTAG FTR  HTHG  \\\n",
      "0     E0   14/08/93           Arsenal          Coventry     0     3   A   NaN   \n",
      "1     E0   14/08/93       Aston Villa               QPR     4     1   H   NaN   \n",
      "2     E0   14/08/93           Chelsea         Blackburn     1     2   A   NaN   \n",
      "3     E0   14/08/93         Liverpool    Sheffield Weds     2     0   H   NaN   \n",
      "4     E0   14/08/93          Man City             Leeds     1     1   D   NaN   \n",
      "5     E0   14/08/93         Newcastle         Tottenham     0     1   A   NaN   \n",
      "6     E0   14/08/93            Oldham           Ipswich     0     3   A   NaN   \n",
      "7     E0   14/08/93  Sheffield United           Swindon     3     1   H   NaN   \n",
      "8     E0   14/08/93       Southampton           Everton     0     2   A   NaN   \n",
      "9     E0   14/08/93          West Ham         Wimbledon     0     2   A   NaN   \n",
      "10    E0   15/08/93           Norwich        Man United     0     2   A   NaN   \n",
      "11    E0   16/08/93         Tottenham           Arsenal     0     1   A   NaN   \n",
      "12    E0   17/08/93           Everton          Man City     1     0   H   NaN   \n",
      "13    E0   17/08/93           Ipswich       Southampton     1     0   H   NaN   \n",
      "14    E0   17/08/93             Leeds          West Ham     1     0   H   NaN   \n",
      "15    E0   17/08/93         Wimbledon           Chelsea     1     1   D   NaN   \n",
      "16    E0   18/08/93         Blackburn           Norwich     2     3   A   NaN   \n",
      "17    E0   18/08/93          Coventry         Newcastle     2     1   H   NaN   \n",
      "18    E0   18/08/93        Man United  Sheffield United     3     0   H   NaN   \n",
      "19    E0   18/08/93               QPR         Liverpool     1     3   A   NaN   \n",
      "20    E0   18/08/93    Sheffield Weds       Aston Villa     0     0   D   NaN   \n",
      "21    E0   18/08/93           Swindon            Oldham     0     1   A   NaN   \n",
      "22    E0   21/08/93         Blackburn            Oldham     1     0   H   NaN   \n",
      "23    E0   21/08/93          Coventry          West Ham     1     1   D   NaN   \n",
      "24    E0   21/08/93           Everton  Sheffield United     4     2   H   NaN   \n",
      "25    E0   21/08/93           Ipswich           Chelsea     1     0   H   NaN   \n",
      "26    E0   21/08/93             Leeds           Norwich     0     4   A   NaN   \n",
      "27    E0   21/08/93        Man United         Newcastle     1     1   D   NaN   \n",
      "28    E0   21/08/93               QPR       Southampton     2     1   H   NaN   \n",
      "29    E0   21/08/93    Sheffield Weds           Arsenal     0     1   A   NaN   \n",
      "...   ..        ...               ...               ...   ...   ...  ..   ...   \n",
      "9634  E0   28/04/18           Swansea           Chelsea     0     1   A   0.0   \n",
      "9635  E0   29/04/18        Man United           Arsenal     2     1   H   1.0   \n",
      "9636  E0   29/04/18          West Ham          Man City     1     4   A   1.0   \n",
      "9637  E0   30/04/18         Tottenham           Watford     2     0   H   1.0   \n",
      "9638  E0   4/5/2018          Brighton        Man United     1     0   H   0.0   \n",
      "9639  E0   5/5/2018       Bournemouth           Swansea     1     0   H   1.0   \n",
      "9640  E0   5/5/2018           Everton       Southampton     1     1   D   0.0   \n",
      "9641  E0   5/5/2018         Leicester          West Ham     0     2   A   0.0   \n",
      "9642  E0   5/5/2018             Stoke    Crystal Palace     1     2   A   1.0   \n",
      "9643  E0   5/5/2018           Watford         Newcastle     2     1   H   2.0   \n",
      "9644  E0   5/5/2018         West Brom         Tottenham     1     0   H   0.0   \n",
      "9645  E0   6/5/2018           Arsenal           Burnley     5     0   H   2.0   \n",
      "9646  E0   6/5/2018           Chelsea         Liverpool     1     0   H   1.0   \n",
      "9647  E0   6/5/2018          Man City      Huddersfield     0     0   D   0.0   \n",
      "9648  E0   8/5/2018           Swansea       Southampton     0     1   A   0.0   \n",
      "9649  E0   9/5/2018           Chelsea      Huddersfield     1     1   D   0.0   \n",
      "9650  E0   9/5/2018         Leicester           Arsenal     3     1   H   1.0   \n",
      "9651  E0   9/5/2018          Man City          Brighton     3     1   H   2.0   \n",
      "9652  E0   9/5/2018         Tottenham         Newcastle     1     0   H   0.0   \n",
      "9653  E0  10/5/2018          West Ham        Man United     0     0   D   0.0   \n",
      "9654  E0   13/05/18           Burnley       Bournemouth     1     2   A   1.0   \n",
      "9655  E0   13/05/18    Crystal Palace         West Brom     2     0   H   0.0   \n",
      "9656  E0   13/05/18      Huddersfield           Arsenal     0     1   A   0.0   \n",
      "9657  E0   13/05/18         Liverpool          Brighton     4     0   H   2.0   \n",
      "9658  E0   13/05/18        Man United           Watford     1     0   H   1.0   \n",
      "9659  E0   13/05/18         Newcastle           Chelsea     3     0   H   1.0   \n",
      "9660  E0   13/05/18       Southampton          Man City     0     1   A   0.0   \n",
      "9661  E0   13/05/18           Swansea             Stoke     1     2   A   1.0   \n",
      "9662  E0   13/05/18         Tottenham         Leicester     5     4   H   1.0   \n",
      "9663  E0   13/05/18          West Ham           Everton     3     1   H   1.0   \n",
      "\n",
      "      HTAG  HTR   Season  \n",
      "0      NaN  NaN  1993-94  \n",
      "1      NaN  NaN  1993-94  \n",
      "2      NaN  NaN  1993-94  \n",
      "3      NaN  NaN  1993-94  \n",
      "4      NaN  NaN  1993-94  \n",
      "5      NaN  NaN  1993-94  \n",
      "6      NaN  NaN  1993-94  \n",
      "7      NaN  NaN  1993-94  \n",
      "8      NaN  NaN  1993-94  \n",
      "9      NaN  NaN  1993-94  \n",
      "10     NaN  NaN  1993-94  \n",
      "11     NaN  NaN  1993-94  \n",
      "12     NaN  NaN  1993-94  \n",
      "13     NaN  NaN  1993-94  \n",
      "14     NaN  NaN  1993-94  \n",
      "15     NaN  NaN  1993-94  \n",
      "16     NaN  NaN  1993-94  \n",
      "17     NaN  NaN  1993-94  \n",
      "18     NaN  NaN  1993-94  \n",
      "19     NaN  NaN  1993-94  \n",
      "20     NaN  NaN  1993-94  \n",
      "21     NaN  NaN  1993-94  \n",
      "22     NaN  NaN  1993-94  \n",
      "23     NaN  NaN  1993-94  \n",
      "24     NaN  NaN  1993-94  \n",
      "25     NaN  NaN  1993-94  \n",
      "26     NaN  NaN  1993-94  \n",
      "27     NaN  NaN  1993-94  \n",
      "28     NaN  NaN  1993-94  \n",
      "29     NaN  NaN  1993-94  \n",
      "...    ...  ...      ...  \n",
      "9634   1.0    A  2017-18  \n",
      "9635   0.0    H  2017-18  \n",
      "9636   2.0    A  2017-18  \n",
      "9637   0.0    H  2017-18  \n",
      "9638   0.0    D  2017-18  \n",
      "9639   0.0    H  2017-18  \n",
      "9640   0.0    D  2017-18  \n",
      "9641   1.0    A  2017-18  \n",
      "9642   0.0    H  2017-18  \n",
      "9643   0.0    H  2017-18  \n",
      "9644   0.0    D  2017-18  \n",
      "9645   0.0    H  2017-18  \n",
      "9646   0.0    H  2017-18  \n",
      "9647   0.0    D  2017-18  \n",
      "9648   0.0    D  2017-18  \n",
      "9649   0.0    D  2017-18  \n",
      "9650   0.0    H  2017-18  \n",
      "9651   1.0    H  2017-18  \n",
      "9652   0.0    D  2017-18  \n",
      "9653   0.0    D  2017-18  \n",
      "9654   0.0    H  2017-18  \n",
      "9655   0.0    D  2017-18  \n",
      "9656   1.0    A  2017-18  \n",
      "9657   0.0    H  2017-18  \n",
      "9658   0.0    H  2017-18  \n",
      "9659   0.0    H  2017-18  \n",
      "9660   0.0    D  2017-18  \n",
      "9661   2.0    A  2017-18  \n",
      "9662   2.0    A  2017-18  \n",
      "9663   0.0    H  2017-18  \n",
      "\n",
      "[9664 rows x 11 columns]>\n"
     ]
    }
   ],
   "source": [
    "#el comando siguiente nos dara la informacion de los datos no nulos\n",
    "print(df.count)"
   ]
  },
  {
   "cell_type": "code",
   "execution_count": 49,
   "metadata": {},
   "outputs": [],
   "source": [
    "#carguemos un nuevo set de datos para visualizar graficamente los datos\n",
    "#usemos el clasico dataset de titanic"
   ]
  },
  {
   "cell_type": "code",
   "execution_count": 51,
   "metadata": {},
   "outputs": [
    {
     "name": "stdout",
     "output_type": "stream",
     "text": [
      "     Survived  Pclass                                               Name  \\\n",
      "0           0       3                             Mr. Owen Harris Braund   \n",
      "1           1       1  Mrs. John Bradley (Florence Briggs Thayer) Cum...   \n",
      "2           1       3                              Miss. Laina Heikkinen   \n",
      "3           1       1        Mrs. Jacques Heath (Lily May Peel) Futrelle   \n",
      "4           0       3                            Mr. William Henry Allen   \n",
      "5           0       3                                    Mr. James Moran   \n",
      "6           0       1                             Mr. Timothy J McCarthy   \n",
      "7           0       3                      Master. Gosta Leonard Palsson   \n",
      "8           1       3   Mrs. Oscar W (Elisabeth Vilhelmina Berg) Johnson   \n",
      "9           1       2                 Mrs. Nicholas (Adele Achem) Nasser   \n",
      "10          1       3                     Miss. Marguerite Rut Sandstrom   \n",
      "11          1       1                            Miss. Elizabeth Bonnell   \n",
      "12          0       3                      Mr. William Henry Saundercock   \n",
      "13          0       3                         Mr. Anders Johan Andersson   \n",
      "14          0       3                Miss. Hulda Amanda Adolfina Vestrom   \n",
      "15          1       2                     Mrs. (Mary D Kingcome) Hewlett   \n",
      "16          0       3                                Master. Eugene Rice   \n",
      "17          1       2                        Mr. Charles Eugene Williams   \n",
      "18          0       3  Mrs. Julius (Emelia Maria Vandemoortele) Vande...   \n",
      "19          1       3                             Mrs. Fatima Masselmani   \n",
      "20          0       2                                Mr. Joseph J Fynney   \n",
      "21          1       2                               Mr. Lawrence Beesley   \n",
      "22          1       3                                 Miss. Anna McGowan   \n",
      "23          1       1                        Mr. William Thompson Sloper   \n",
      "24          0       3                       Miss. Torborg Danira Palsson   \n",
      "25          1       3  Mrs. Carl Oscar (Selma Augusta Emilia Johansso...   \n",
      "26          0       3                             Mr. Farred Chehab Emir   \n",
      "27          0       1                      Mr. Charles Alexander Fortune   \n",
      "28          1       3                                Miss. Ellen O'Dwyer   \n",
      "29          0       3                                 Mr. Lalio Todoroff   \n",
      "..        ...     ...                                                ...   \n",
      "857         0       2                         Mr. Frederick Edward Giles   \n",
      "858         1       1  Mrs. Frederick Joel (Margaret Welles Barron) S...   \n",
      "859         0       3                           Miss. Dorothy Edith Sage   \n",
      "860         0       2                              Mr. John William Gill   \n",
      "861         1       2                            Mrs. (Karolina) Bystrom   \n",
      "862         1       2                        Miss. Asuncion Duran y More   \n",
      "863         0       1                Mr. Washington Augustus II Roebling   \n",
      "864         0       3                         Mr. Philemon van Melkebeke   \n",
      "865         1       3                     Master. Harold Theodor Johnson   \n",
      "866         0       3                                   Mr. Cerin Balkic   \n",
      "867         1       1    Mrs. Richard Leonard (Sallie Monypeny) Beckwith   \n",
      "868         0       1                            Mr. Frans Olof Carlsson   \n",
      "869         0       3                         Mr. Victor Vander Cruyssen   \n",
      "870         1       2               Mrs. Samuel (Hannah Wizosky) Abelson   \n",
      "871         1       3                           Miss. Adele Kiamie Najib   \n",
      "872         0       3                       Mr. Alfred Ossian Gustafsson   \n",
      "873         0       3                                Mr. Nedelio Petroff   \n",
      "874         0       3                                  Mr. Kristo Laleff   \n",
      "875         1       1       Mrs. Thomas Jr (Lily Alexenia Wilson) Potter   \n",
      "876         1       2        Mrs. William (Imanita Parrish Hall) Shelley   \n",
      "877         0       3                                  Mr. Johann Markun   \n",
      "878         0       3                        Miss. Gerda Ulrika Dahlberg   \n",
      "879         0       2                       Mr. Frederick James Banfield   \n",
      "880         0       3                              Mr. Henry Jr Sutehall   \n",
      "881         0       3                Mrs. William (Margaret Norton) Rice   \n",
      "882         0       2                               Rev. Juozas Montvila   \n",
      "883         1       1                        Miss. Margaret Edith Graham   \n",
      "884         0       3                     Miss. Catherine Helen Johnston   \n",
      "885         1       1                               Mr. Karl Howell Behr   \n",
      "886         0       3                                 Mr. Patrick Dooley   \n",
      "\n",
      "        Sex   Age  Siblings/Spouses Aboard  Parents/Children Aboard      Fare  \n",
      "0      male  22.0                        1                        0    7.2500  \n",
      "1    female  38.0                        1                        0   71.2833  \n",
      "2    female  26.0                        0                        0    7.9250  \n",
      "3    female  35.0                        1                        0   53.1000  \n",
      "4      male  35.0                        0                        0    8.0500  \n",
      "5      male  27.0                        0                        0    8.4583  \n",
      "6      male  54.0                        0                        0   51.8625  \n",
      "7      male   2.0                        3                        1   21.0750  \n",
      "8    female  27.0                        0                        2   11.1333  \n",
      "9    female  14.0                        1                        0   30.0708  \n",
      "10   female   4.0                        1                        1   16.7000  \n",
      "11   female  58.0                        0                        0   26.5500  \n",
      "12     male  20.0                        0                        0    8.0500  \n",
      "13     male  39.0                        1                        5   31.2750  \n",
      "14   female  14.0                        0                        0    7.8542  \n",
      "15   female  55.0                        0                        0   16.0000  \n",
      "16     male   2.0                        4                        1   29.1250  \n",
      "17     male  23.0                        0                        0   13.0000  \n",
      "18   female  31.0                        1                        0   18.0000  \n",
      "19   female  22.0                        0                        0    7.2250  \n",
      "20     male  35.0                        0                        0   26.0000  \n",
      "21     male  34.0                        0                        0   13.0000  \n",
      "22   female  15.0                        0                        0    8.0292  \n",
      "23     male  28.0                        0                        0   35.5000  \n",
      "24   female   8.0                        3                        1   21.0750  \n",
      "25   female  38.0                        1                        5   31.3875  \n",
      "26     male  26.0                        0                        0    7.2250  \n",
      "27     male  19.0                        3                        2  263.0000  \n",
      "28   female  24.0                        0                        0    7.8792  \n",
      "29     male  23.0                        0                        0    7.8958  \n",
      "..      ...   ...                      ...                      ...       ...  \n",
      "857    male  21.0                        1                        0   11.5000  \n",
      "858  female  48.0                        0                        0   25.9292  \n",
      "859  female  14.0                        8                        2   69.5500  \n",
      "860    male  24.0                        0                        0   13.0000  \n",
      "861  female  42.0                        0                        0   13.0000  \n",
      "862  female  27.0                        1                        0   13.8583  \n",
      "863    male  31.0                        0                        0   50.4958  \n",
      "864    male  23.0                        0                        0    9.5000  \n",
      "865    male   4.0                        1                        1   11.1333  \n",
      "866    male  26.0                        0                        0    7.8958  \n",
      "867  female  47.0                        1                        1   52.5542  \n",
      "868    male  33.0                        0                        0    5.0000  \n",
      "869    male  47.0                        0                        0    9.0000  \n",
      "870  female  28.0                        1                        0   24.0000  \n",
      "871  female  15.0                        0                        0    7.2250  \n",
      "872    male  20.0                        0                        0    9.8458  \n",
      "873    male  19.0                        0                        0    7.8958  \n",
      "874    male  23.0                        0                        0    7.8958  \n",
      "875  female  56.0                        0                        1   83.1583  \n",
      "876  female  25.0                        0                        1   26.0000  \n",
      "877    male  33.0                        0                        0    7.8958  \n",
      "878  female  22.0                        0                        0   10.5167  \n",
      "879    male  28.0                        0                        0   10.5000  \n",
      "880    male  25.0                        0                        0    7.0500  \n",
      "881  female  39.0                        0                        5   29.1250  \n",
      "882    male  27.0                        0                        0   13.0000  \n",
      "883  female  19.0                        0                        0   30.0000  \n",
      "884  female   7.0                        1                        2   23.4500  \n",
      "885    male  26.0                        0                        0   30.0000  \n",
      "886    male  32.0                        0                        0    7.7500  \n",
      "\n",
      "[887 rows x 8 columns]\n"
     ]
    }
   ],
   "source": [
    "data=pd.read_csv('titanic.csv', header=0)\n",
    "print(data)\n"
   ]
  },
  {
   "cell_type": "code",
   "execution_count": 53,
   "metadata": {},
   "outputs": [
    {
     "data": {
      "image/png": "[encoded data removed]",
      "text/plain": [
       "<Figure size 2160x720 with 2 Axes>"
      ]
     },
     "metadata": {
      "needs_background": "light"
     },
     "output_type": "display_data"
    }
   ],
   "source": [
    "import matplotlib.pyplot as plt\n",
    "fig = plt.figure(figsize=(30,10)) #Canvas de 30x10 Pixeles\n",
    "plt.subplot2grid((2,3),(0,0))\n",
    "data.Survived.value_counts().plot(kind='bar', alpha=0.5)\n",
    "plt.title('Sobrevivieron - cuenta total')\n",
    "\n",
    "plt.subplot2grid((2,3),(0,1))\n",
    "data.Survived.value_counts(normalize=True).plot(kind='bar', alpha=0.5)\n",
    "plt.title('Sobrevivieron - porcentaje total')\n",
    "\n",
    "plt.show()"
   ]
  },
  {
   "cell_type": "code",
   "execution_count": null,
   "metadata": {},
   "outputs": [],
   "source": []
  },
  {
   "cell_type": "code",
   "execution_count": null,
   "metadata": {},
   "outputs": [],
   "source": []
  }
 ],
 "metadata": {
  "kernelspec": {
   "display_name": "Python 3",
   "language": "python",
   "name": "python3"
  },
  "language_info": {
   "codemirror_mode": {
    "name": "ipython",
    "version": 3
   },
   "file_extension": ".py",
   "mimetype": "text/x-python",
   "name": "python",
   "nbconvert_exporter": "python",
   "pygments_lexer": "ipython3",
   "version": "3.7.2"
  }
 },
 "nbformat": 4,
 "nbformat_minor": 2
}
